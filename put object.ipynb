{
 "cells": [
  {
   "cell_type": "markdown",
   "metadata": {},
   "source": [
    "swift_da_cfg.txtと下記のパラメターに従い、オブジェクトを書き込みオブジェクトのリストを得る"
   ]
  },
  {
   "cell_type": "code",
   "execution_count": 14,
   "metadata": {},
   "outputs": [
    {
     "name": "stdout",
     "output_type": "stream",
     "text": [
      "<keystoneauth1.identity.v3.password.Password object at 0x0000024F2BD2AE48>\n"
     ]
    }
   ],
   "source": [
    "import conect_swift as cs　#トークンを得る関数をインポート\n",
    "from keystoneauth1 import session\n",
    "from swiftclient import client\n",
    "\n",
    "auth=cs.cswift()#キーストーン　トークンを得る\n"
   ]
  },
  {
   "cell_type": "code",
   "execution_count": 15,
   "metadata": {},
   "outputs": [],
   "source": [
    "#swiftへ接続\n",
    "sess = session.Session(auth=auth)\n",
    "swift_conn = client.Connection(session=sess)"
   ]
  },
  {
   "cell_type": "code",
   "execution_count": 16,
   "metadata": {},
   "outputs": [],
   "source": [
    "container_name='container_200'#書き込むコンテナ指定\n",
    "object_name='Berry.jpg'#書き込むオブジェクト指定"
   ]
  },
  {
   "cell_type": "code",
   "execution_count": 18,
   "metadata": {},
   "outputs": [],
   "source": [
    "with open(object_name, 'rb') as local:#オブジェクト書き込み\n",
    "    swift_conn.put_object(\n",
    "        container=container_name,\n",
    "        obj=object_name,\n",
    "        contents=local,\n",
    "        content_type='application/octet-stream' #if Unknown file is application/octet-stream\n",
    "    )"
   ]
  },
  {
   "cell_type": "code",
   "execution_count": 19,
   "metadata": {},
   "outputs": [],
   "source": [
    "#オブジェクトのリストを得る\n",
    "try:\n",
    "    resp_headers, object = swift_conn.get_container(container_name)\n",
    "\n",
    "except session.exceptions.Unauthorized:\n",
    "    print (\"The request you have made requires authentication.\")\n",
    "\n",
    "except client.ClientException:\n",
    "    print (\"Account GET failed\")"
   ]
  },
  {
   "cell_type": "code",
   "execution_count": 20,
   "metadata": {},
   "outputs": [
    {
     "name": "stdout",
     "output_type": "stream",
     "text": [
      "\n",
      "objetc=======================================================================\n",
      "2019-05-14T03:05:01.758360\t268051\tBerry.jpg\n",
      "2019-05-10T07:24:09.579760\t117\tda_restore_s3ql_metadata\n",
      "2019-05-10T07:24:09.703960\t64\tda_restore_s3ql_seq_no_1557466849\n",
      "2019-05-10T07:24:09.820150\t5\tda_restore_s3ql_seq_no_1557466850\n",
      "2019-05-10T05:40:49.938390\t117\ts3ql_metadata\n",
      "2019-05-10T05:40:49.975490\t64\ts3ql_seq_no_1557466849\n",
      "2019-05-14T02:17:11.731960\t5\ts3ql_seq_no_1557466850\n"
     ]
    }
   ],
   "source": [
    "print(\"\\nobjetc=======================================================================\")\n",
    "for o  in object:\n",
    "\tprint(\"%s\\t%s\\t%s\" % (o['last_modified'], o['bytes'], o['name']))"
   ]
  },
  {
   "cell_type": "code",
   "execution_count": null,
   "metadata": {},
   "outputs": [],
   "source": []
  }
 ],
 "metadata": {
  "kernelspec": {
   "display_name": "Python 3",
   "language": "python",
   "name": "python3"
  },
  "language_info": {
   "codemirror_mode": {
    "name": "ipython",
    "version": 3
   },
   "file_extension": ".py",
   "mimetype": "text/x-python",
   "name": "python",
   "nbconvert_exporter": "python",
   "pygments_lexer": "ipython3",
   "version": "3.6.8"
  }
 },
 "nbformat": 4,
 "nbformat_minor": 2
}
