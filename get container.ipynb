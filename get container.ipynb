{
 "cells": [
  {
   "cell_type": "markdown",
   "metadata": {},
   "source": [
    "swift_da_cfg.txtのパラメターに従い、コンテナのリストを得る"
   ]
  },
  {
   "cell_type": "code",
   "execution_count": 2,
   "metadata": {},
   "outputs": [
    {
     "name": "stdout",
     "output_type": "stream",
     "text": [
      "<keystoneauth1.identity.v3.password.Password object at 0x000001E0D150D860>\n"
     ]
    }
   ],
   "source": [
    "import conect_swift as cs#トークンを得る関数をインポート\n",
    "from keystoneauth1 import session\n",
    "from swiftclient import client\n",
    "\n",
    "auth=cs.cswift()#キーストーン　トークンを得る"
   ]
  },
  {
   "cell_type": "code",
   "execution_count": 4,
   "metadata": {},
   "outputs": [],
   "source": [
    "#swiftへ接続\n",
    "sess = session.Session(auth=auth)\n",
    "swift_conn = client.Connection(session=sess)"
   ]
  },
  {
   "cell_type": "code",
   "execution_count": 5,
   "metadata": {},
   "outputs": [],
   "source": [
    "try:\n",
    "    resp_headers, containers = swift_conn.get_account()\n",
    "\n",
    "except session.exceptions.Unauthorized:\n",
    "    print (\"The request you have made requires authentication.\")\n",
    "\n",
    "except client.ClientException:\n",
    "    print (\"Account GET failed\")"
   ]
  },
  {
   "cell_type": "code",
   "execution_count": 6,
   "metadata": {},
   "outputs": [
    {
     "name": "stdout",
     "output_type": "stream",
     "text": [
      "\n",
      "Headers=======================================================================\n",
      "x-da-result-code:0\n",
      "content-length:213\n",
      "x-da-account-type:0\n",
      "x-account-object-count:659\n",
      "x-account-storage-policy-policy-0-bytes-used:17571573397\n",
      "x-account-storage-policy-policy-0-container-count:2\n",
      "x-da-result-message:Successfully completed.\n",
      "x-timestamp:1556248408.49578\n",
      "x-account-storage-policy-policy-0-object-count:659\n",
      "x-account-bytes-used:17571573397\n",
      "x-account-container-count:2\n",
      "content-type:application/json; charset=utf-8\n",
      "accept-ranges:bytes\n",
      "x-trans-id:txc8f9ce35adb4417695d0a-005cda33e8\n",
      "x-openstack-request-id:txc8f9ce35adb4417695d0a-005cda33e8\n",
      "date:Tue, 14 May 2019 03:20:09 GMT\n",
      "\n",
      "conainters=====================================================================\n",
      "{'count': 652, 'last_modified': '2019-05-08T05:54:41.297780', 'bytes': 17571304974, 'name': 'container_100'}\n",
      "{'count': 7, 'last_modified': '2019-05-10T05:38:06.078270', 'bytes': 268423, 'name': 'container_200'}\n"
     ]
    }
   ],
   "source": [
    "print(\"\\nHeaders=======================================================================\")\n",
    "for(k,v) in resp_headers.items():\n",
    "\tprint(\"%s:%s\" %(k,v))\n",
    "\n",
    "print(\"\\nconainters=====================================================================\")\n",
    "for c in containers:\n",
    "\tprint(\"%s\" % c)\n"
   ]
  },
  {
   "cell_type": "code",
   "execution_count": null,
   "metadata": {},
   "outputs": [],
   "source": []
  }
 ],
 "metadata": {
  "kernelspec": {
   "display_name": "Python 3",
   "language": "python",
   "name": "python3"
  },
  "language_info": {
   "codemirror_mode": {
    "name": "ipython",
    "version": 3
   },
   "file_extension": ".py",
   "mimetype": "text/x-python",
   "name": "python",
   "nbconvert_exporter": "python",
   "pygments_lexer": "ipython3",
   "version": "3.6.8"
  }
 },
 "nbformat": 4,
 "nbformat_minor": 2
}
